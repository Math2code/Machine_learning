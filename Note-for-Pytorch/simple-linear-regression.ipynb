{
 "cells": [
  {
   "cell_type": "code",
   "execution_count": 48,
   "metadata": {},
   "outputs": [],
   "source": [
    "import torch\n",
    "import torch.optim as optim\n",
    "import matplotlib.pyplot as plt\n",
    "%matplotlib inline"
   ]
  },
  {
   "cell_type": "markdown",
   "metadata": {},
   "source": [
    "## Simple linear regression \n",
    "Today we will look at linear regression in Pytorch. We get some data points of `(x, y)`, and if we visualize the data, then we see that the `x` and `y` have a linear relationship. They can't fit into a straight line perfectly since there is noise. How do we find the best fitting line? And what do I mean it is the best fitting  line? Let's start with finding the best fitting line."
   ]
  },
  {
   "cell_type": "code",
   "execution_count": 56,
   "metadata": {},
   "outputs": [
    {
     "data": {
      "text/plain": [
       "<matplotlib.collections.PathCollection at 0x23ac87f0208>"
      ]
     },
     "execution_count": 56,
     "metadata": {},
     "output_type": "execute_result"
    },
    {
     "data": {
      "image/png": "[encoded data removed]",
      "text/plain": [
       "<Figure size 432x288 with 1 Axes>"
      ]
     },
     "metadata": {
      "needs_background": "light"
     },
     "output_type": "display_data"
    }
   ],
   "source": [
    "y = [0.5, 14.0, 15.0, 28.0, 11.0, 8.0, 3.0, -4.0, 6.0, 13.0, 21.0]\n",
    "x = [35.7, 55.9, 58.2, 81.9, 56.3, 48.9, 33.9, 21.8, 48.4, 60.4, 68.4]\n",
    "plt.scatter(x, y)"
   ]
  },
  {
   "cell_type": "markdown",
   "metadata": {},
   "source": [
    "To work with Pytorch, we convert the data points into Pytorch tensor. "
   ]
  },
  {
   "cell_type": "code",
   "execution_count": 57,
   "metadata": {},
   "outputs": [],
   "source": [
    "x = torch.tensor(x)\n",
    "y = torch.tensor(y)\n",
    "# Normalize the data \n",
    "scale_x = ((x.max() - x.min()))\n",
    "scale_y = (y.max() - y.min())\n",
    "x = x /(x.max() - x.min())\n",
    "y = y /(y.max() - y.min())"
   ]
  },
  {
   "cell_type": "markdown",
   "metadata": {},
   "source": [
    "Here we define our model as a linear function and define a loss function. To consider the best fitting line, we want to find `w` and `b` minimize the errors between the prediction and the data."
   ]
  },
  {
   "cell_type": "code",
   "execution_count": 58,
   "metadata": {},
   "outputs": [],
   "source": [
    "def model(x, w, b):\n",
    "    return w*x + b\n",
    "\n",
    "def mean_square(y_gt, y):\n",
    "    squared_diffs = (y_gt - y)**2\n",
    "    return squared_diffs.mean()"
   ]
  },
  {
   "cell_type": "code",
   "execution_count": 8,
   "metadata": {},
   "outputs": [],
   "source": [
    "# Initialize a parameter tensor with `requires_grad=True`, \n",
    "# which tells the Pytorch to track all the operations on params.\n",
    "params = torch.tensor([1.0, 1.0], requires_grad=True)"
   ]
  },
  {
   "cell_type": "code",
   "execution_count": 9,
   "metadata": {},
   "outputs": [
    {
     "name": "stdout",
     "output_type": "stream",
     "text": [
      "True\n"
     ]
    },
    {
     "data": {
      "text/plain": [
       "tensor(2.3553, grad_fn=<MeanBackward0>)"
      ]
     },
     "execution_count": 9,
     "metadata": {},
     "output_type": "execute_result"
    }
   ],
   "source": [
    "# In general, the `grad` attribute of params tensor is None \n",
    "# To populate its derivative, we need to compute the loss and call \n",
    "# backward on the loss tensor:\n",
    "print(params.grad is None)\n",
    "loss = mean_square(model(x, *params), y)\n",
    "loss.backward()\n",
    "loss"
   ]
  },
  {
   "cell_type": "markdown",
   "metadata": {},
   "source": [
    "Now, we can see that the `grad` attribute of `params` contains the derivatives of \n",
    "$$\\partial (loss)/\\partial (params) = < \\partial / \\partial w, \\partial / \\partial b > loss$$."
   ]
  },
  {
   "cell_type": "code",
   "execution_count": 10,
   "metadata": {},
   "outputs": [
    {
     "data": {
      "text/plain": [
       "tensor([2.6427, 3.0675])"
      ]
     },
     "execution_count": 10,
     "metadata": {},
     "output_type": "execute_result"
    }
   ],
   "source": [
    "params.grad"
   ]
  },
  {
   "cell_type": "markdown",
   "metadata": {},
   "source": [
    "Calling `backward` makes derivatives accumulate for each parameter. You need to make the gradient zero explicitly after using it. For example:"
   ]
  },
  {
   "cell_type": "code",
   "execution_count": 59,
   "metadata": {},
   "outputs": [
    {
     "name": "stdout",
     "output_type": "stream",
     "text": [
      "True\n",
      "tensor([-0.0004,  0.0004])\n"
     ]
    },
    {
     "data": {
      "text/plain": [
       "tensor([0., 0.])"
      ]
     },
     "execution_count": 59,
     "metadata": {},
     "output_type": "execute_result"
    }
   ],
   "source": [
    "print(params.grad is None)\n",
    "loss = mean_square(model(x, *params), y)\n",
    "loss.backward()\n",
    "print(params.grad)\n",
    "\n",
    "if params.grad is not None:\n",
    "    params.grad.zero_()\n",
    "    \n",
    "params.grad"
   ]
  },
  {
   "cell_type": "code",
   "execution_count": 60,
   "metadata": {},
   "outputs": [],
   "source": [
    "def training_loop(n_epochs, learning_rate, params, y, x):\n",
    "    for epoch in range(1, n_epochs + 1):\n",
    "        if params.grad is not None:\n",
    "            params.grad.zero_()\n",
    "        y_p = model(x, *params)\n",
    "        loss = mean_square(y_p, y)\n",
    "        loss.backward()\n",
    "        if epoch >6000:\n",
    "            learning_rate = 1e-3\n",
    "        params = (params - learning_rate * params.grad).detach().requires_grad_()\n",
    "        if epoch % 500 == 0:\n",
    "            print('Epoch %d, Loss %f' % (epoch, loss))\n",
    "    return params"
   ]
  },
  {
   "cell_type": "code",
   "execution_count": 61,
   "metadata": {},
   "outputs": [
    {
     "name": "stdout",
     "output_type": "stream",
     "text": [
      "Epoch 500, Loss 0.005290\n",
      "Epoch 1000, Loss 0.003947\n",
      "Epoch 1500, Loss 0.003346\n",
      "Epoch 2000, Loss 0.003077\n",
      "Epoch 2500, Loss 0.002956\n",
      "Epoch 3000, Loss 0.002903\n",
      "Epoch 3500, Loss 0.002879\n",
      "Epoch 4000, Loss 0.002868\n",
      "Epoch 4500, Loss 0.002863\n",
      "Epoch 5000, Loss 0.002861\n"
     ]
    },
    {
     "data": {
      "text/plain": [
       "tensor([ 1.0032, -0.5364], requires_grad=True)"
      ]
     },
     "execution_count": 61,
     "metadata": {},
     "output_type": "execute_result"
    }
   ],
   "source": [
    "params = training_loop(\n",
    "    n_epochs=5000,\n",
    "    learning_rate=1e-2,\n",
    "    params=torch.tensor([1.0, 0.0], requires_grad=True),\n",
    "    y=y,\n",
    "    x=x)\n",
    "params"
   ]
  },
  {
   "cell_type": "code",
   "execution_count": 62,
   "metadata": {},
   "outputs": [
    {
     "data": {
      "text/plain": [
       "[<matplotlib.lines.Line2D at 0x23ac89754a8>,\n",
       " <matplotlib.lines.Line2D at 0x23ac89755f8>]"
      ]
     },
     "execution_count": 62,
     "metadata": {},
     "output_type": "execute_result"
    },
    {
     "data": {
      "image/png": "[encoded data removed]",
      "text/plain": [
       "<Figure size 432x288 with 1 Axes>"
      ]
     },
     "metadata": {
      "needs_background": "light"
     },
     "output_type": "display_data"
    }
   ],
   "source": [
    "y_p = model(x, *params)\n",
    "plt.plot(x.numpy(), y_p.detach().numpy(), x, y, 'o')"
   ]
  },
  {
   "cell_type": "code",
   "execution_count": 63,
   "metadata": {},
   "outputs": [],
   "source": [
    "def training_loop_v1(n_epochs, learning_rate, params, y, x):\n",
    "    optimizer = optim.Adam([params], lr=learning_rate)\n",
    "    for epoch in range(1, n_epochs + 1):\n",
    "        y_p = model(x, *params)\n",
    "        loss = mean_square(y_p, y)\n",
    "        optimizer.zero_grad()\n",
    "        loss.backward()\n",
    "        optimizer.step()\n",
    "        if epoch >6000:\n",
    "            learning_rate = 1e-3\n",
    "        params = (params - learning_rate * params.grad).detach().requires_grad_()\n",
    "        if epoch % 500 == 0:\n",
    "            print('Epoch %d, Loss %f' % (epoch, loss))\n",
    "    return params"
   ]
  },
  {
   "cell_type": "code",
   "execution_count": 64,
   "metadata": {},
   "outputs": [
    {
     "name": "stdout",
     "output_type": "stream",
     "text": [
      "Epoch 500, Loss 0.005290\n",
      "Epoch 1000, Loss 0.003947\n",
      "Epoch 1500, Loss 0.003346\n",
      "Epoch 2000, Loss 0.003077\n",
      "Epoch 2500, Loss 0.002956\n",
      "Epoch 3000, Loss 0.002903\n",
      "Epoch 3500, Loss 0.002879\n",
      "Epoch 4000, Loss 0.002868\n",
      "Epoch 4500, Loss 0.002863\n",
      "Epoch 5000, Loss 0.002861\n"
     ]
    },
    {
     "data": {
      "text/plain": [
       "tensor([ 1.0032, -0.5364], requires_grad=True)"
      ]
     },
     "execution_count": 64,
     "metadata": {},
     "output_type": "execute_result"
    }
   ],
   "source": [
    "params = training_loop(\n",
    "    n_epochs=5000,\n",
    "    learning_rate=1e-2,\n",
    "    params=torch.tensor([1.0, 0.0], requires_grad=True),\n",
    "    y=y,\n",
    "    x=x)\n",
    "params"
   ]
  },
  {
   "cell_type": "code",
   "execution_count": null,
   "metadata": {},
   "outputs": [],
   "source": []
  }
 ],
 "metadata": {
  "kernelspec": {
   "display_name": "Python 3",
   "language": "python",
   "name": "python3"
  },
  "language_info": {
   "codemirror_mode": {
    "name": "ipython",
    "version": 3
   },
   "file_extension": ".py",
   "mimetype": "text/x-python",
   "name": "python",
   "nbconvert_exporter": "python",
   "pygments_lexer": "ipython3",
   "version": "3.6.9"
  }
 },
 "nbformat": 4,
 "nbformat_minor": 2
}
