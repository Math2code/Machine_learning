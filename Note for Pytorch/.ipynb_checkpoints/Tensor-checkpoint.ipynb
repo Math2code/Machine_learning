{
 "cells": [
  {
   "cell_type": "code",
   "execution_count": 1,
   "metadata": {},
   "outputs": [],
   "source": [
    "import torch"
   ]
  },
  {
   "cell_type": "code",
   "execution_count": 2,
   "metadata": {},
   "outputs": [
    {
     "data": {
      "text/plain": [
       "True"
      ]
     },
     "execution_count": 2,
     "metadata": {},
     "output_type": "execute_result"
    }
   ],
   "source": [
    "torch.cuda.is_available()"
   ]
  },
  {
   "cell_type": "markdown",
   "metadata": {},
   "source": [
    "## What's tensor?\n",
    "Tensor is the generealization of vertors and matrics. It is also called multidimensional arrays. It is a fundamental data struture in PyTorch. PyTorch tensor has the ability to perform fast operations on GPUs, to distribute operations on multiple devices or mahcine, and to keep track of the graph of computations.\n",
    "\n",
    "Today, I will learn how to manipulate tensors, and undersand how the data is stored in memory and how opercation can be performed."
   ]
  },
  {
   "cell_type": "code",
   "execution_count": 68,
   "metadata": {},
   "outputs": [],
   "source": [
    "# Let's define an one-dimensional tensor of size 5 filled with values 1.0\n",
    "tensor1 = torch.ones(5)"
   ]
  },
  {
   "cell_type": "code",
   "execution_count": 69,
   "metadata": {},
   "outputs": [
    {
     "data": {
      "text/plain": [
       "tensor(1.)"
      ]
     },
     "execution_count": 69,
     "metadata": {},
     "output_type": "execute_result"
    }
   ],
   "source": [
    "# You can access the element by using its 0-based index\n",
    "tensor1[1]"
   ]
  },
  {
   "cell_type": "markdown",
   "metadata": {},
   "source": [
    "Values in PyTorch tensor are allocated in contiguous chunks of memory, managed by `torch.Storage` instances. A storage is a one-dimensional array of numerical data. A Pytorch tensor is a view over such a storage and it is able to index into this storage by using an offset and per-dimension strides. Here is an example for a 2D Pytorch tensor."
   ]
  },
  {
   "cell_type": "code",
   "execution_count": 70,
   "metadata": {},
   "outputs": [
    {
     "name": "stdout",
     "output_type": "stream",
     "text": [
      "points: tensor([[10., 12.],\n",
      "        [13., 14.],\n",
      "        [15., 16.]])\n",
      "Storage:  10.0\n",
      " 12.0\n",
      " 13.0\n",
      " 14.0\n",
      " 15.0\n",
      " 16.0\n",
      "[torch.FloatStorage of size 6]\n"
     ]
    }
   ],
   "source": [
    "points = torch.tensor([[10.0, 12.0],[13.0, 14.0],[15.0, 16.0]])\n",
    "print(\"points: {}\".format(points))\n",
    "print(\"Storage: {}\".format(points.storage()))"
   ]
  },
  {
   "cell_type": "markdown",
   "metadata": {},
   "source": [
    "An element in the index of `(i, j)` of a 2D tensor corresponding to the `storage_offset + stride[0] * i + stride[1] * j` element in the storage.\n",
    "The storage offset is the index in the storage that corresponds to the first element in the tensor. The stride is the number of elements in the storage that need to be skipped to obtain the next element along each dimension."
   ]
  },
  {
   "cell_type": "code",
   "execution_count": 71,
   "metadata": {},
   "outputs": [
    {
     "name": "stdout",
     "output_type": "stream",
     "text": [
      "tensor(12.)\n",
      "12.0\n"
     ]
    }
   ],
   "source": [
    "i = 0 \n",
    "j = 1\n",
    "print(points[i,j])\n",
    "points.storage_offset()\n",
    "stride = points.stride()\n",
    "print(points.storage()[points.storage_offset() + stride[0] * i + stride[1] * j])"
   ]
  },
  {
   "cell_type": "markdown",
   "metadata": {},
   "source": [
    "## Tensor on GPU\n",
    "Torch tensor can be transferred to a GPU via its `device` property. Here is an example of creating an tensor on GPU."
   ]
  },
  {
   "cell_type": "code",
   "execution_count": 72,
   "metadata": {},
   "outputs": [],
   "source": [
    "points_gpu = torch.tensor([[1.0, 4.0], [2.0, 1.0], [3.0, 4.0]],\n",
    "device='cuda')"
   ]
  },
  {
   "cell_type": "code",
   "execution_count": 73,
   "metadata": {},
   "outputs": [],
   "source": [
    "points_gpu = points.to(device='cuda')"
   ]
  },
  {
   "cell_type": "code",
   "execution_count": 74,
   "metadata": {},
   "outputs": [
    {
     "data": {
      "text/plain": [
       "tensor([[10., 12.],\n",
       "        [13., 14.],\n",
       "        [15., 16.]], device='cuda:0')"
      ]
     },
     "execution_count": 74,
     "metadata": {},
     "output_type": "execute_result"
    }
   ],
   "source": [
    "points_gpu"
   ]
  }
 ],
 "metadata": {
  "kernelspec": {
   "display_name": "Python 3",
   "language": "python",
   "name": "python3"
  },
  "language_info": {
   "codemirror_mode": {
    "name": "ipython",
    "version": 3
   },
   "file_extension": ".py",
   "mimetype": "text/x-python",
   "name": "python",
   "nbconvert_exporter": "python",
   "pygments_lexer": "ipython3",
   "version": "3.6.9"
  }
 },
 "nbformat": 4,
 "nbformat_minor": 2
}
